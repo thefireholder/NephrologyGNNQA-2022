{
 "cells": [
  {
   "cell_type": "code",
   "execution_count": null,
   "id": "a1a4c85f",
   "metadata": {},
   "outputs": [],
   "source": [
    "import os\n",
    "import json\n",
    "import pickle\n",
    "import numpy as np\n",
    "from tqdm import tqdm\n",
    "from collections import defaultdict\n",
    "from sklearn.model_selection import train_test_split\n",
    "from collections import defaultdict"
   ]
  },
  {
   "cell_type": "code",
   "execution_count": null,
   "id": "1a62914d",
   "metadata": {},
   "outputs": [],
   "source": [
    "entities_file = r\"C:\\Users\\fabien\\Documents\\Arvind\\GreaseLM\\utils_biomed\\entities.jsonl\"\n",
    "relations_file = r\"C:\\Users\\fabien\\Documents\\Arvind\\GreaseLM\\utils_biomed\\relations.jsonl\"\n",
    "save_entities_file = r\"C:\\Users\\fabien\\Documents\\Arvind\\GreaseLM\\data\\ddb\\ddb_names.json\"\n",
    "save_relations_file = r\"C:\\Users\\fabien\\Documents\\Arvind\\GreaseLM\\data\\ddb\\ddb_relas.json\"\n",
    "save_ddb_to_umls_cui_file = r\"C:\\Users\\fabien\\Documents\\Arvind\\GreaseLM\\data\\ddb\\ddb_to_umls_cui.txt\""
   ]
  },
  {
   "cell_type": "code",
   "execution_count": null,
   "id": "5ad782da",
   "metadata": {},
   "outputs": [],
   "source": [
    "with open(entities_file) as f:\n",
    "    lines = f.readlines()\n",
    "    db_parsed_entities = [json.loads(line) for line in lines]\n",
    "\n",
    "with open(relations_file) as f:\n",
    "    lines = f.readlines()\n",
    "    db_parsed_relations = [json.loads(line) for line in lines]"
   ]
  },
  {
   "cell_type": "code",
   "execution_count": null,
   "id": "b1787dc5",
   "metadata": {},
   "outputs": [],
   "source": [
    "escapes = ''.join([chr(char) for char in range(1, 32)])\n",
    "trantab = str.maketrans(\"\",\"\", escapes)"
   ]
  },
  {
   "cell_type": "code",
   "execution_count": null,
   "id": "2f5487c9",
   "metadata": {},
   "outputs": [],
   "source": [
    "db_entities_json = {}\n",
    "db_to_umls = set()\n",
    "umls_to_db =  dict()\n",
    "db_entity_ids = defaultdict(lambda: len(db_entity_ids))"
   ]
  },
  {
   "cell_type": "code",
   "execution_count": null,
   "id": "43305ce7",
   "metadata": {
    "scrolled": true
   },
   "outputs": [],
   "source": [
    "for parsed_entities in db_parsed_entities:\n",
    "    entities = parsed_entities[\"entities\"]\n",
    "    for entity in entities:\n",
    "        name = entity[\"text\"]\n",
    "        name = name.translate(trantab)\n",
    "        linking_results = entity[\"linking_results\"]\n",
    "        if linking_results:\n",
    "            for result in linking_results:\n",
    "                preferred_name = result[\"Canonical Name\"]\n",
    "                if preferred_name == 'No Information Available':\n",
    "                    preferred_name = name+\"-\"\n",
    "                cui = result[\"Concept ID\"]\n",
    "                db_id = db_entity_ids[cui]\n",
    "                db_to_umls.add((str(db_id), cui))\n",
    "                umls_to_db[cui] = str(db_id)\n",
    "                #if db_id == 119:\n",
    "                #print(result)\n",
    "                \"\"\"\n",
    "                if name not in db_entities_json:\n",
    "                    if name == preferred_name:\n",
    "                        is_preferred_name = \"1\"\n",
    "                        db_entities_json[name] = [str(db_id), is_preferred_name]\n",
    "                    else:\n",
    "                        is_preferred_name = \"0\"\n",
    "                        db_entities_json[name] = [str(db_id), is_preferred_name]\n",
    "                \"\"\"\n",
    "                # only incorporate preferred names - we just need to the nodes/edges anyway\n",
    "                if preferred_name not in db_entities_json:\n",
    "                    is_preferred_name = \"1\"\n",
    "                    db_entities_json[preferred_name] = [str(db_id), is_preferred_name]\n",
    "        else:\n",
    "            preferred_name = name\n",
    "            cui = name\n",
    "            db_id = db_entity_ids[cui]\n",
    "            db_to_umls.add((str(db_id), cui))\n",
    "            umls_to_db[cui] = str(db_id)\n",
    "            if name not in db_entities_json:\n",
    "                is_preferred_name = \"1\"\n",
    "                db_entities_json[name] = [str(db_id), is_preferred_name]"
   ]
  },
  {
   "cell_type": "code",
   "execution_count": null,
   "id": "61d7eb90",
   "metadata": {},
   "outputs": [],
   "source": [
    "db_relations_json = {}\n",
    "db_relation_ids = defaultdict(lambda: len(db_relation_ids))"
   ]
  },
  {
   "cell_type": "code",
   "execution_count": null,
   "id": "e6bffad7",
   "metadata": {},
   "outputs": [],
   "source": [
    "for relation in db_parsed_relations:\n",
    "    subj = relation[\"head\"]\n",
    "    subj = subj.translate(trantab)\n",
    "    obj = relation[\"tail\"]\n",
    "    obj = obj.translate(trantab)\n",
    "    rel = relation[\"type\"]\n",
    "    rel = rel.translate(trantab)\n",
    "    \n",
    "    if subj in umls_to_db:\n",
    "        subj = umls_to_db[subj]\n",
    "    if obj in umls_to_db:\n",
    "        obj = umls_to_db[obj]\n",
    "    \n",
    "    add_relation = (subj, obj, rel)\n",
    "    relation_id = db_relation_ids[add_relation]\n",
    "    \n",
    "    if relation_id not in db_relations_json:\n",
    "        db_relations_json[relation_id] = list(add_relation)"
   ]
  },
  {
   "cell_type": "code",
   "execution_count": null,
   "id": "ebfd9e49",
   "metadata": {},
   "outputs": [],
   "source": [
    "sorted(list(db_to_umls))"
   ]
  },
  {
   "cell_type": "code",
   "execution_count": null,
   "id": "90481a81",
   "metadata": {},
   "outputs": [],
   "source": [
    "\"C1512018\" in umls_to_db, \"C0018517\" in umls_to_db, (\"49\", 'C0449379') in db_to_umls, db_entities_json['information-'], db_entities_json['Kidney'] "
   ]
  },
  {
   "cell_type": "code",
   "execution_count": null,
   "id": "3b75907f",
   "metadata": {},
   "outputs": [],
   "source": [
    "for k,v in db_entities_json.items():\n",
    "    #if v[0] == \"49\":\n",
    "    #if v[0] == \"58\":\n",
    "    if v[0] == \"119\":\n",
    "        print(k)\n",
    "        print(v)"
   ]
  },
  {
   "cell_type": "code",
   "execution_count": null,
   "id": "6ba8d07f",
   "metadata": {},
   "outputs": [],
   "source": [
    "\"\"\"\n",
    "for parsed_entities in db_parsed_entities:\n",
    "    entities = parsed_entities['entities']\n",
    "    for entity in entities:\n",
    "        #print(\"entity: {}\".format(entity))\n",
    "        if 'linking_results' in entity:\n",
    "            linking_results = entity['linking_results']\n",
    "            #print(\"linking results: {}\".format(linking_results))\n",
    "            for res in linking_results:\n",
    "                #print(\"CUI: {}\".format(res['Concept ID']))\n",
    "                if \"C1512018\" in res['Concept ID']:\n",
    "                    print(entity)\n",
    "                    print(\"CUI: {}\".format(res['Concept ID']))\n",
    "                #if \"C\" in res['Concept ID']:\n",
    "                #print(\"CUI: {}\".format(res['Concept ID']))\n",
    "\"\"\""
   ]
  },
  {
   "cell_type": "code",
   "execution_count": null,
   "id": "db57d170",
   "metadata": {},
   "outputs": [],
   "source": [
    "with open(save_ddb_to_umls_cui_file, 'w', encoding='utf-8') as f:\n",
    "    f.write('\\t'.join([\"LinkItemsToUMLSCUIID\", \"ItemPTR\", \"CUI\", \"ItemToUMLSCUILinkTypePTR\"]) + '\\n')\n",
    "    for row in sorted(list(db_to_umls)):\n",
    "        db_ptr = row[0]\n",
    "        cui = row[1]\n",
    "        row = [\"0\", str(db_ptr), cui, \"0\"]\n",
    "        f.write('\\t'.join(row) + '\\n')"
   ]
  },
  {
   "cell_type": "code",
   "execution_count": null,
   "id": "c03434ae",
   "metadata": {},
   "outputs": [],
   "source": [
    "with open(save_entities_file, 'w') as f:\n",
    "    json.dump(db_entities_json, f)"
   ]
  },
  {
   "cell_type": "code",
   "execution_count": null,
   "id": "c4a0d55d",
   "metadata": {},
   "outputs": [],
   "source": [
    "with open(save_relations_file, 'w') as f:\n",
    "    json.dump(db_relations_json, f)"
   ]
  },
  {
   "cell_type": "code",
   "execution_count": null,
   "id": "0bb45dd2",
   "metadata": {},
   "outputs": [],
   "source": []
  }
 ],
 "metadata": {
  "kernelspec": {
   "display_name": "Python 3",
   "language": "python",
   "name": "python3"
  },
  "language_info": {
   "codemirror_mode": {
    "name": "ipython",
    "version": 3
   },
   "file_extension": ".py",
   "mimetype": "text/x-python",
   "name": "python",
   "nbconvert_exporter": "python",
   "pygments_lexer": "ipython3",
   "version": "3.6.5"
  }
 },
 "nbformat": 4,
 "nbformat_minor": 5
}
